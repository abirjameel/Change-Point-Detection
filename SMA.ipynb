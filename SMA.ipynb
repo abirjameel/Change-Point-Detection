{
 "cells": [
  {
   "cell_type": "code",
   "execution_count": 1,
   "metadata": {},
   "outputs": [],
   "source": [
    "import fxcmpy\n",
    "import pandas as pd \n",
    "import numpy as np \n",
    "import matplotlib.pyplot as plt \n",
    "import datetime as dt\n",
    "import time\n",
    "%matplotlib inline\n",
    "from matplotlib import style\n",
    "style.use('ggplot')\n",
    "pd.set_option('display.max_columns', None)\n",
    "pd.set_option('display.max_rows', None)"
   ]
  },
  {
   "cell_type": "code",
   "execution_count": 2,
   "metadata": {},
   "outputs": [
    {
     "name": "stdout",
     "output_type": "stream",
     "text": [
      "['AUD/CAD', 'AUD/CHF', 'AUD/JPY', 'AUD/NZD', 'AUD/USD', 'AUS200', 'Bund', 'CAD/CHF', 'CAD/JPY', 'CHF/JPY', 'CHN50', 'Copper', 'ESP35', 'EUR/AUD', 'EUR/CAD', 'EUR/CHF', 'EUR/GBP', 'EUR/JPY', 'EUR/NOK', 'EUR/NZD', 'EUR/SEK', 'EUR/TRY', 'EUR/USD', 'EUSTX50', 'FRA40', 'GBP/AUD', 'GBP/CAD', 'GBP/CHF', 'GBP/JPY', 'GBP/NZD', 'GBP/USD', 'GER30', 'HKG33', 'JPN225', 'NAS100', 'NGAS', 'NZD/CAD', 'NZD/CHF', 'NZD/JPY', 'NZD/USD', 'SOYF', 'SPX500', 'TRY/JPY', 'UK100', 'UKOil', 'US30', 'USD/CAD', 'USD/CHF', 'USD/CNH', 'USD/HKD', 'USD/JPY', 'USD/MXN', 'USD/NOK', 'USD/SEK', 'USD/TRY', 'USD/ZAR', 'USDOLLAR', 'USOil', 'XAG/USD', 'XAU/USD', 'ZAR/JPY', 'BTC/USD', 'US2000', 'WHEATF', 'CORNF', 'EMBasket', 'JPYBasket', 'BCH/USD', 'ETH/USD', 'LTC/USD', 'XRP/USD']\n"
     ]
    }
   ],
   "source": [
    "con=fxcmpy.fxcmpy(config_file = 'fxcm.cfg')\n",
    "print(con.get_instruments_for_candles())"
   ]
  },
  {
   "cell_type": "code",
   "execution_count": 3,
   "metadata": {},
   "outputs": [],
   "source": [
    "# token = '1a5119225ed0a512e50f2c1df26952208792e06a'\n",
    "symbol = 'EUR/USD'\n",
    "timeframe = \"m30\"    # (m1,m5,m15,m30,H1,H2,H3,H4,H6,H8,D1,W1,M1)\n",
    "close_on_opposing_signal = True\n",
    "amount = 50\n",
    "stop = -10\n",
    "limit = 40"
   ]
  },
  {
   "cell_type": "code",
   "execution_count": 2,
   "metadata": {},
   "outputs": [
    {
     "data": {
      "text/plain": [
       "0.375"
      ]
     },
     "execution_count": 2,
     "metadata": {},
     "output_type": "execute_result"
    }
   ],
   "source": []
  },
  {
   "cell_type": "code",
   "execution_count": 4,
   "metadata": {},
   "outputs": [],
   "source": [
    "# Global Variables\n",
    "pricedata = None\n",
    "numberofcandles = 100"
   ]
  },
  {
   "cell_type": "code",
   "execution_count": 19,
   "metadata": {},
   "outputs": [],
   "source": [
    "def Prepare():\n",
    "    global pricedata\n",
    "    \n",
    "    print(\"Requesting Initial Price Data...\")\n",
    "    pricedata = con.get_candles(symbol, period=timeframe, number=numberofcandles)\n",
    "    print(pricedata.tail())\n",
    "    print(\"Initial Price Data Received..\")\n",
    "# Get latest close bar prices and run Update() function every close of bar/candle\n",
    "def StrategyHeartBeat():\n",
    "    while True:\n",
    "        currenttime = dt.datetime.now()\n",
    "        if timeframe == \"m1\" and currenttime.second == 0 and GetLatestPriceData():\n",
    "            Update()\n",
    "        elif timeframe == \"m5\" and currenttime.second == 0 and currenttime.minute % 5 == 0 and GetLatestPriceData(): \n",
    "            Update()\n",
    "            time.sleep(240)\n",
    "        elif timeframe == \"m15\" and currenttime.second == 0 and currenttime.minute % 15 == 0 and GetLatestPriceData(): \n",
    "            Update()\n",
    "            time.sleep(840)\n",
    "        elif timeframe == \"m30\" and currenttime.second == 0 and currenttime.minute % 30 == 0 and GetLatestPriceData():\n",
    "            Update()\n",
    "            time.sleep(1740)\n",
    "        elif currenttime.second == 0 and currenttime.minute == 0 and GetLatestPriceData():\n",
    "            Update()\n",
    "            time.sleep(3540)\n",
    "        time.sleep(1)\n",
    "\n",
    "def GetLatestPriceData():\n",
    "    global pricedata\n",
    "    # Normal operation will update pricedata on first attempt\n",
    "    new_pricedata = con.get_candles(symbol, period=timeframe, number=numberofcandles)\n",
    "    if new_pricedata.index.values[len(new_pricedata.index.values)-1] != pricedata.index.values[len(pricedata.index.values)-1]:\n",
    "        pricedata= new_pricedata\n",
    "        return True\n",
    "        \n",
    "    counter = 0\n",
    "    # If data is not available on first attempt, try up to 3 times to update pricedata\n",
    "    while new_pricedata.index.values[len(new_pricedata.index.values)-1] == pricedata.index.values[len(pricedata.index.values)-1] and counter < 3:\n",
    "        print(\"No updated prices found, trying again in 10 seconds...\")\n",
    "        counter+=1\n",
    "        time.sleep(10)\n",
    "        new_pricedata = con.get_candles(symbol, period=timeframe, number=numberofcandles)\n",
    "    try:\n",
    "        if new_pricedata.index.values[len(new_pricedata.index.values)-1] != pricedata.index.values[len(pricedata.index.values)-1]:\n",
    "            pricedata = new_pricedata\n",
    "            return True\n",
    "    except IndexError as e:\n",
    "        print(\"Error updating new price data..will be tried again when new bar gets updated...\")\n",
    "        print(e)\n",
    "        pass\n",
    "    else:\n",
    "        return False"
   ]
  },
  {
   "cell_type": "code",
   "execution_count": 20,
   "metadata": {},
   "outputs": [],
   "source": [
    "def labelChange(df, colname):\n",
    "    df['changeDetected'] = 0\n",
    "    sign = 0\n",
    "    df.reset_index(drop=False, inplace=True)\n",
    "    for i, row in df.iterrows():\n",
    "        sign_l = np.sign(row['slope'])\n",
    "#         print(\"Previous sign: {}  and current sign: {}\".format(sign, sign_l))\n",
    "        if sign_l>=0 and sign<=0:\n",
    "            sign = sign_l\n",
    "            df['changeDetected'].iloc[i:i+1,] = 1\n",
    "        elif sign_l<=0 and sign>=0:\n",
    "            sign = sign_l\n",
    "            df['changeDetected'].iloc[i:i+1,] = -1\n",
    "        else:\n",
    "            df['changeDetected'].iloc[i:i+1,] = 0\n",
    "    return df\n",
    "\n",
    "def getSlope(x):\n",
    "    n = len(x)\n",
    "    y = np.arange(1, n+1, 1)\n",
    "    slope,_ = np.polyfit(x, y, deg=1)\n",
    "    return slope"
   ]
  },
  {
   "cell_type": "code",
   "execution_count": 21,
   "metadata": {},
   "outputs": [],
   "source": [
    "def Update():\n",
    "    print(str(dt.datetime.now()) + \"    \" + timeframe + \" Bar Closed - Running Update Function...\")\n",
    "\n",
    "#     # Calculate Indicators\n",
    "#     iFastSMA = sma(pricedata['bidclose'], fast_sma_periods)\n",
    "#     iSlowSMA = sma(pricedata['bidclose'], slow_sma_periods)\n",
    "    \n",
    "    data = pd.DataFrame(pricedata[['askclose', 'bidclose']].mean(axis=1), columns=['mid_close'])\n",
    "    data['mid_close_mva4'] = data['mid_close'].rolling(4).mean()\n",
    "    data['mid_close_mva5'] = data['mid_close'].rolling(5).mean()\n",
    "    data['slope'] = data.mid_close_mva5.rolling(10).apply(getSlope)\n",
    "    data.dropna(axis=0, inplace=True)\n",
    "    data = labelChange(df=data, colname='slope')\n",
    "    data.set_index(data[\"date\"], inplace=True)\n",
    "    print(data.tail())\n",
    "#     # Print Price/Indicators\n",
    "#     print(\"Close Price: \" + str(pricedata['bidclose'][len(pricedata)-1]))\n",
    "#     print(\"Fast SMA: \" + str(iFastSMA[len(iFastSMA)-1]))\n",
    "#     print(\"Slow SMA: \" + str(iSlowSMA[len(iSlowSMA)-1]))\n",
    "    \n",
    "    # TRADING LOGIC data['mid_close'][9:].values[0]\n",
    "    # If Fast SMA crosses over Slow SMA, Open Buy Trade\n",
    "    if data['changeDetected'][data.shape[0]-1:].values[0]==1:\n",
    "        print(\"  BUY SIGNAL!\")\n",
    "        if close_on_opposing_signal and countOpenTrades(\"S\") > 0:\n",
    "            print(\" Closing Sell Trade(s)...\")\n",
    "            exit(\"S\")\n",
    "        print(\"  Opening Buy Trade...\")\n",
    "        enter(\"B\")\n",
    "    # If Fast SMA crosses under Slow SMA, Open Sell Trade\n",
    "    if data['changeDetected'][data.shape[0]-1:].values[0]==-1:\n",
    "        print(\"  SELL SIGNAL!\")\n",
    "        if close_on_opposing_signal and countOpenTrades(\"B\") > 0:\n",
    "            print(\"  Closing Buy Trade(s)...\")\n",
    "            exit(\"B\")\n",
    "        print(\"  Opening Sell Trade...\")\n",
    "        enter(\"S\")\n",
    "        \n",
    "    print(str(dt.datetime.now()) + \"\t \" + timeframe + \" Update Function Completed.\\n\")\n",
    "\n",
    "# This function places a market order in the direction BuySell, \"B\" = Buy, \"S\" = Sell, uses symbol, amount, stop, limit\n",
    "def enter(BuySell):\n",
    "    direction = True;\n",
    "    if BuySell == \"S\":\n",
    "        direction = False;\n",
    "    try:\n",
    "        opentrade = con.open_trade(symbol=symbol, is_buy=direction,amount=amount,time_in_force='GTC', order_type='AtMarket',is_in_pips=True,limit=limit, stop=stop)\n",
    "    except Exception as e:\n",
    "        print(\"  Error Opening Trade.\")\n",
    "        print(e)\n",
    "    else:\n",
    "        print(\"  Trade Opened Successfully.\")\n",
    "\n",
    "# This function closes all positions that are in the direction BuySell, \"B\" = Close All Buy Positions, \"S\" = Close All Sell Positions, uses symbol\n",
    "def exit(BuySell=None):\n",
    "    openpositions = con.get_open_positions(kind='list')\n",
    "    isbuy = True\n",
    "    if BuySell == \"S\":\n",
    "        isbuy = False\n",
    "    for position in openpositions:\n",
    "        if position['currency'] == symbol:\n",
    "            if BuySell is None or position['isBuy'] == isbuy:\n",
    "                print(\"  Closing tradeID: \" + position['tradeId'])\n",
    "                try:\n",
    "                    closetrade = con.close_trade(trade_id=position['tradeId'], amount=position['amountK'])\n",
    "                except Exception as e:\n",
    "                    print(\"  Error Closing Trade.\")\n",
    "                    print(e)\n",
    "                else:\n",
    "                    print(\"  Trade Closed Successfully.\")\n",
    "                    \n",
    "def countOpenTrades(BuySell=None):\n",
    "    openpositions = con.get_open_positions(kind='list')\n",
    "    isbuy = True\n",
    "    counter = 0\n",
    "    if BuySell == \"S\":\n",
    "        isbuy = False\n",
    "    for position in openpositions:\n",
    "        if position['currency'] == symbol:\n",
    "            if BuySell is None or position['isBuy'] == isbuy:\n",
    "                counter+=1\n",
    "    return counter"
   ]
  },
  {
   "cell_type": "code",
   "execution_count": null,
   "metadata": {
    "scrolled": true
   },
   "outputs": [
    {
     "name": "stdout",
     "output_type": "stream",
     "text": [
      "Requesting Initial Price Data...\n",
      "                     bidopen  bidclose  bidhigh   bidlow  askopen  askclose  \\\n",
      "date                                                                          \n",
      "2019-06-12 10:30:00  1.13225   1.13195  1.13237  1.13114  1.13237   1.13208   \n",
      "2019-06-12 11:00:00  1.13195   1.13230  1.13247  1.13171  1.13208   1.13242   \n",
      "2019-06-12 11:30:00  1.13230   1.13210  1.13233  1.13145  1.13242   1.13223   \n",
      "2019-06-12 12:00:00  1.13210   1.13236  1.13244  1.13193  1.13223   1.13262   \n",
      "2019-06-12 12:30:00  1.13235   1.13192  1.13402  1.13136  1.13261   1.13202   \n",
      "\n",
      "                     askhigh   asklow  tickqty  \n",
      "date                                            \n",
      "2019-06-12 10:30:00  1.13249  1.13126     6866  \n",
      "2019-06-12 11:00:00  1.13260  1.13183     4881  \n",
      "2019-06-12 11:30:00  1.13244  1.13157     6572  \n",
      "2019-06-12 12:00:00  1.13269  1.13204     5767  \n",
      "2019-06-12 12:30:00  1.13417  1.13147    19304  \n",
      "Initial Price Data Received..\n",
      "2019-06-12 17:30:04.459182    m30 Bar Closed - Running Update Function...\n"
     ]
    },
    {
     "name": "stderr",
     "output_type": "stream",
     "text": [
      "C:\\Users\\Jameel\\Anaconda3\\lib\\site-packages\\ipykernel_launcher.py:11: FutureWarning: Currently, 'apply' passes the values as ndarrays to the applied function. In the future, this will change to passing it as Series objects. You need to specify 'raw=True' to keep the current behaviour, and you can pass 'raw=False' to silence this warning\n",
      "  # This is added back by InteractiveShellApp.init_path()\n",
      "C:\\Users\\Jameel\\Anaconda3\\lib\\site-packages\\pandas\\core\\indexing.py:190: SettingWithCopyWarning: \n",
      "A value is trying to be set on a copy of a slice from a DataFrame\n",
      "\n",
      "See the caveats in the documentation: http://pandas.pydata.org/pandas-docs/stable/indexing.html#indexing-view-versus-copy\n",
      "  self._setitem_with_indexer(indexer, value)\n"
     ]
    },
    {
     "name": "stdout",
     "output_type": "stream",
     "text": [
      "                                   date  mid_close  mid_close_mva4  \\\n",
      "date                                                                 \n",
      "2019-06-12 11:00:00 2019-06-12 11:00:00   1.132360        1.132391   \n",
      "2019-06-12 11:30:00 2019-06-12 11:30:00   1.132165        1.132213   \n",
      "2019-06-12 12:00:00 2019-06-12 12:00:00   1.132490        1.132258   \n",
      "2019-06-12 12:30:00 2019-06-12 12:30:00   1.131970        1.132246   \n",
      "2019-06-12 13:00:00 2019-06-12 13:00:00   1.131240        1.131966   \n",
      "\n",
      "                     mid_close_mva5        slope  changeDetected  \n",
      "date                                                              \n",
      "2019-06-12 11:00:00        1.132444 -5952.892740               0  \n",
      "2019-06-12 11:30:00        1.132346 -5473.389637               0  \n",
      "2019-06-12 12:00:00        1.132268 -5221.581586               0  \n",
      "2019-06-12 12:30:00        1.132200 -5260.757309               0  \n",
      "2019-06-12 13:00:00        1.132045 -5437.384123               0  \n",
      "2019-06-12 17:30:06.568553\t m30 Update Function Completed.\n",
      "\n",
      "2019-06-12 18:00:03.817573    m30 Bar Closed - Running Update Function...\n",
      "                                   date  mid_close  mid_close_mva4  \\\n",
      "date                                                                 \n",
      "2019-06-12 11:30:00 2019-06-12 11:30:00   1.132165        1.132213   \n",
      "2019-06-12 12:00:00 2019-06-12 12:00:00   1.132490        1.132258   \n",
      "2019-06-12 12:30:00 2019-06-12 12:30:00   1.131970        1.132246   \n",
      "2019-06-12 13:00:00 2019-06-12 13:00:00   1.131240        1.131966   \n",
      "2019-06-12 13:30:00 2019-06-12 13:30:00   1.131515        1.131804   \n",
      "\n",
      "                     mid_close_mva5        slope  changeDetected  \n",
      "date                                                              \n",
      "2019-06-12 11:30:00        1.132346 -5473.389637               0  \n",
      "2019-06-12 12:00:00        1.132268 -5221.581586               0  \n",
      "2019-06-12 12:30:00        1.132200 -5260.757309               0  \n",
      "2019-06-12 13:00:00        1.132045 -5437.384123               0  \n",
      "2019-06-12 13:30:00        1.131876 -5751.686350               0  \n",
      "2019-06-12 18:00:05.861153\t m30 Update Function Completed.\n",
      "\n"
     ]
    }
   ],
   "source": [
    "Prepare() # Initialize strategy\n",
    "StrategyHeartBeat() # Run strategy"
   ]
  },
  {
   "cell_type": "code",
   "execution_count": null,
   "metadata": {},
   "outputs": [],
   "source": []
  }
 ],
 "metadata": {
  "kernelspec": {
   "display_name": "Python 3",
   "language": "python",
   "name": "python3"
  },
  "language_info": {
   "codemirror_mode": {
    "name": "ipython",
    "version": 3
   },
   "file_extension": ".py",
   "mimetype": "text/x-python",
   "name": "python",
   "nbconvert_exporter": "python",
   "pygments_lexer": "ipython3",
   "version": "3.6.5"
  }
 },
 "nbformat": 4,
 "nbformat_minor": 2
}
