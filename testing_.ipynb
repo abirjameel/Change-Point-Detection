{
 "cells": [
  {
   "cell_type": "code",
   "execution_count": 34,
   "metadata": {},
   "outputs": [],
   "source": [
    "import fxcmpy\n",
    "import time\n",
    "import datetime as dt\n",
    "from datetime import datetime\n",
    "from pyti.simple_moving_average import simple_moving_average as sma\n",
    "from dateutil.relativedelta import relativedelta"
   ]
  },
  {
   "cell_type": "code",
   "execution_count": 93,
   "metadata": {},
   "outputs": [],
   "source": [
    "token = '705d276b3730e9b53952cce3c135552830994573'\n",
    "symbol = 'EUR/USD'\n",
    "timeframe = \"m5\"        # (m1,m5,m15,m30,H1,H2,H3,H4,H6,H8,D1,W1,M1)\n",
    "fast_sma_periods = 10\n",
    "slow_sma_periods = 20\n",
    "close_on_opposing_signal = True\n",
    "amount = 10\n",
    "stop = -10\n",
    "limit = 30"
   ]
  },
  {
   "cell_type": "code",
   "execution_count": 94,
   "metadata": {},
   "outputs": [],
   "source": [
    "pricedata = None\n",
    "numberofcandles = 20"
   ]
  },
  {
   "cell_type": "code",
   "execution_count": 4,
   "metadata": {},
   "outputs": [],
   "source": [
    "con = fxcmpy.fxcmpy(access_token=token, log_level=\"error\", server='demo')"
   ]
  },
  {
   "cell_type": "code",
   "execution_count": 9,
   "metadata": {},
   "outputs": [],
   "source": [
    "def Prepare():\n",
    "    print(\"Requesting Initial Price Data...\")\n",
    "    pricedata = con.get_candles(symbol, period=timeframe, number=numberofcandles)\n",
    "    print(\"Initial Price Data Received...\")\n",
    "    return pricedata\n",
    "\n",
    "def StrategyHeartBeat():\n",
    "    while True:\n",
    "        currenttime = dt.datetime.now()\n",
    "#       if timeframe == \"m5\" and currenttime.second == 0 and currenttime.minute % 5 == 0 and GetLatestPriceData(): \n",
    "        Prepare()\n",
    "        time.sleep(60)\n",
    "        "
   ]
  },
  {
   "cell_type": "code",
   "execution_count": 10,
   "metadata": {},
   "outputs": [
    {
     "name": "stdout",
     "output_type": "stream",
     "text": [
      "Requesting Initial Price Data...\n",
      "Initial Price Data Received...\n"
     ]
    }
   ],
   "source": [
    "pdata = Prepare()"
   ]
  },
  {
   "cell_type": "code",
   "execution_count": 83,
   "metadata": {},
   "outputs": [
    {
     "data": {
      "text/html": [
       "<div>\n",
       "<style scoped>\n",
       "    .dataframe tbody tr th:only-of-type {\n",
       "        vertical-align: middle;\n",
       "    }\n",
       "\n",
       "    .dataframe tbody tr th {\n",
       "        vertical-align: top;\n",
       "    }\n",
       "\n",
       "    .dataframe thead th {\n",
       "        text-align: right;\n",
       "    }\n",
       "</style>\n",
       "<table border=\"1\" class=\"dataframe\">\n",
       "  <thead>\n",
       "    <tr style=\"text-align: right;\">\n",
       "      <th></th>\n",
       "      <th>bidopen</th>\n",
       "      <th>bidclose</th>\n",
       "      <th>bidhigh</th>\n",
       "      <th>bidlow</th>\n",
       "      <th>askopen</th>\n",
       "      <th>askclose</th>\n",
       "      <th>askhigh</th>\n",
       "      <th>asklow</th>\n",
       "      <th>tickqty</th>\n",
       "    </tr>\n",
       "    <tr>\n",
       "      <th>date</th>\n",
       "      <th></th>\n",
       "      <th></th>\n",
       "      <th></th>\n",
       "      <th></th>\n",
       "      <th></th>\n",
       "      <th></th>\n",
       "      <th></th>\n",
       "      <th></th>\n",
       "      <th></th>\n",
       "    </tr>\n",
       "  </thead>\n",
       "  <tbody>\n",
       "    <tr>\n",
       "      <th>2019-07-09 07:35:00</th>\n",
       "      <td>1.12116</td>\n",
       "      <td>1.12107</td>\n",
       "      <td>1.12127</td>\n",
       "      <td>1.12105</td>\n",
       "      <td>1.12128</td>\n",
       "      <td>1.12120</td>\n",
       "      <td>1.12140</td>\n",
       "      <td>1.12117</td>\n",
       "      <td>835</td>\n",
       "    </tr>\n",
       "    <tr>\n",
       "      <th>2019-07-09 07:40:00</th>\n",
       "      <td>1.12107</td>\n",
       "      <td>1.12093</td>\n",
       "      <td>1.12109</td>\n",
       "      <td>1.12082</td>\n",
       "      <td>1.12120</td>\n",
       "      <td>1.12105</td>\n",
       "      <td>1.12121</td>\n",
       "      <td>1.12093</td>\n",
       "      <td>701</td>\n",
       "    </tr>\n",
       "    <tr>\n",
       "      <th>2019-07-09 07:45:00</th>\n",
       "      <td>1.12094</td>\n",
       "      <td>1.12093</td>\n",
       "      <td>1.12103</td>\n",
       "      <td>1.12083</td>\n",
       "      <td>1.12106</td>\n",
       "      <td>1.12105</td>\n",
       "      <td>1.12115</td>\n",
       "      <td>1.12095</td>\n",
       "      <td>727</td>\n",
       "    </tr>\n",
       "    <tr>\n",
       "      <th>2019-07-09 07:50:00</th>\n",
       "      <td>1.12093</td>\n",
       "      <td>1.12063</td>\n",
       "      <td>1.12101</td>\n",
       "      <td>1.12061</td>\n",
       "      <td>1.12105</td>\n",
       "      <td>1.12076</td>\n",
       "      <td>1.12113</td>\n",
       "      <td>1.12073</td>\n",
       "      <td>758</td>\n",
       "    </tr>\n",
       "    <tr>\n",
       "      <th>2019-07-09 07:55:00</th>\n",
       "      <td>1.12063</td>\n",
       "      <td>1.12071</td>\n",
       "      <td>1.12073</td>\n",
       "      <td>1.12044</td>\n",
       "      <td>1.12076</td>\n",
       "      <td>1.12084</td>\n",
       "      <td>1.12085</td>\n",
       "      <td>1.12056</td>\n",
       "      <td>974</td>\n",
       "    </tr>\n",
       "  </tbody>\n",
       "</table>\n",
       "</div>"
      ],
      "text/plain": [
       "                     bidopen  bidclose  bidhigh   bidlow  askopen  askclose  \\\n",
       "date                                                                          \n",
       "2019-07-09 07:35:00  1.12116   1.12107  1.12127  1.12105  1.12128   1.12120   \n",
       "2019-07-09 07:40:00  1.12107   1.12093  1.12109  1.12082  1.12120   1.12105   \n",
       "2019-07-09 07:45:00  1.12094   1.12093  1.12103  1.12083  1.12106   1.12105   \n",
       "2019-07-09 07:50:00  1.12093   1.12063  1.12101  1.12061  1.12105   1.12076   \n",
       "2019-07-09 07:55:00  1.12063   1.12071  1.12073  1.12044  1.12076   1.12084   \n",
       "\n",
       "                     askhigh   asklow  tickqty  \n",
       "date                                            \n",
       "2019-07-09 07:35:00  1.12140  1.12117      835  \n",
       "2019-07-09 07:40:00  1.12121  1.12093      701  \n",
       "2019-07-09 07:45:00  1.12115  1.12095      727  \n",
       "2019-07-09 07:50:00  1.12113  1.12073      758  \n",
       "2019-07-09 07:55:00  1.12085  1.12056      974  "
      ]
     },
     "execution_count": 83,
     "metadata": {},
     "output_type": "execute_result"
    }
   ],
   "source": [
    "pdata.tail()"
   ]
  },
  {
   "cell_type": "code",
   "execution_count": 76,
   "metadata": {},
   "outputs": [],
   "source": [
    "def check_updated(dfold, dfnew):\n",
    "    last_time_old = dfold.index[dfold.shape[0]-1]\n",
    "    last_time_new = dfnew.index[dfnew.shape[0]-1]\n",
    "    if last_time_new>last_time_old:\n",
    "        return True"
   ]
  },
  {
   "cell_type": "code",
   "execution_count": 89,
   "metadata": {},
   "outputs": [],
   "source": [
    "def get_latest_data():\n",
    "    print(\"Getting initial data...\")\n",
    "    pricedata = Prepare()\n",
    "    print(\"initial price data\")\n",
    "    print(pricedata.tail())\n",
    "    while True:\n",
    "        last_time = pricedata.index[pricedata.shape[0]-1]\n",
    "        curr_time = dt.datetime.now()\n",
    "        if curr_time>last_time:\n",
    "            \n",
    "            print('requesting new data...')\n",
    "            newprice_data = con.get_candles(symbol, period=timeframe, number=numberofcandles)\n",
    "        if check_updated(dfold=pricedata, dfnew=newprice_data):\n",
    "            pricedata = newprice_data\n",
    "            print(\"new price data received...\")\n",
    "            print(pricedata.tail())\n",
    "            Update()\n",
    "        time.sleep(30)"
   ]
  },
  {
   "cell_type": "code",
   "execution_count": 95,
   "metadata": {},
   "outputs": [],
   "source": [
    "def enter(BuySell):\n",
    "    direction = True;\n",
    "    if BuySell == \"S\":\n",
    "        direction = False;\n",
    "    try:\n",
    "        opentrade = con.open_trade(symbol=symbol, is_buy=direction, amount=amount, time_in_force='GTC', order_type='AtMarket',is_in_pips=True,limit=limit, stop=stop)\n",
    "    except Exception as e:\n",
    "        print(\"  Error Opening . {}\".format(str(e)))\n",
    "    else:\n",
    "        print(\" Opened Successfully \")\n",
    "\n",
    "# This function closes all positions that are in the direction BuySell, \"B\" = Close All Buy Positions, \"S\" = Close All Sell Positions, uses symbol\n",
    "def exit(BuySell=None):\n",
    "    openpositions = con.get_open_positions(kind='list')\n",
    "    isbuy = True\n",
    "    if BuySell == \"S\":\n",
    "        isbuy = False\n",
    "    for position in openpositions:\n",
    "        if position['currency'] == symbol:\n",
    "            if BuySell is None or position['isBuy'] == isbuy:\n",
    "                print(\"  Closing tradeID: \" + position['tradeId'])\n",
    "                try:\n",
    "                    closetrade = con.close_trade(trade_id=position['tradeId'], amount=position['amountK'])\n",
    "                except Exception as e:\n",
    "                    print(\"  Error Closing {}\".format(str(e)))\n",
    "                else:\n",
    "                    print(\" Closed Successfully \")"
   ]
  },
  {
   "cell_type": "code",
   "execution_count": null,
   "metadata": {
    "scrolled": false
   },
   "outputs": [],
   "source": []
  },
  {
   "cell_type": "code",
   "execution_count": 96,
   "metadata": {},
   "outputs": [],
   "source": [
    "def Update():\n",
    "    print(str(dt.datetime.now()) + \"\t \" + timeframe + \" Bar Closed - Running Update Function...\")\n",
    "\n",
    "    # Calculate Indicators\n",
    "#     iFastSMA = sma(pricedata['bidclose'], fast_sma_periods)\n",
    "#     iSlowSMA = sma(pricedata['bidclose'], slow_sma_periods)pricedata\n",
    "    pricedata['dir'] = pricedata.apply(lambda x: 1 if x['bidopen']<x['bidclose'] else -1 if x['bidopen']>x['bidclose'] else 0, axis=1)\n",
    "    # Print Price/Indicator\n",
    "    # TRADING LOGIC\n",
    "    # If Fast SMA crosses over Slow SMA, Open Buy Trade\n",
    "    if pricedata['dir'][pricedata.shape[0]-1] ==1:\n",
    "        print(\"\t  BUY SIGNAL!\")\n",
    "        if close_on_opposing_signal and countOpenTrades(\"S\") > 0:\n",
    "            print(\"\t  Closing Sell Trade(s)...\")\n",
    "            exit(\"S\")\n",
    "        print(\"\t  Opening Buy Trade...\")\n",
    "        enter(\"B\")\n",
    "    # If Fast SMA crosses under Slow SMA, Open Sell Trade\n",
    "    if pricedata['dir'][pricedata.shape[0]-1] ==-1:\n",
    "        print(\"\t  SELL SIGNAL!\")\n",
    "        if close_on_opposing_signal and countOpenTrades(\"B\") > 0:\n",
    "            print(\"\t  Closing Buy Trade(s)...\")\n",
    "            exit(\"B\")\n",
    "        print(\"\t  Opening Sell Trade...\")\n",
    "        enter(\"S\")\n",
    "        \n",
    "    print(str(dt.datetime.now()) + \"\t \" + timeframe + \" Update Function Completed.\\n\")"
   ]
  },
  {
   "cell_type": "code",
   "execution_count": null,
   "metadata": {},
   "outputs": [],
   "source": []
  },
  {
   "cell_type": "code",
   "execution_count": null,
   "metadata": {},
   "outputs": [],
   "source": []
  },
  {
   "cell_type": "code",
   "execution_count": null,
   "metadata": {},
   "outputs": [],
   "source": []
  },
  {
   "cell_type": "code",
   "execution_count": 97,
   "metadata": {},
   "outputs": [
    {
     "name": "stdout",
     "output_type": "stream",
     "text": [
      "Getting initial data...\n",
      "Requesting Initial Price Data...\n",
      "Initial Price Data Received...\n",
      "initial price data\n",
      "                     bidopen  bidclose  bidhigh   bidlow  askopen  askclose  \\\n",
      "date                                                                          \n",
      "2019-07-09 13:40:00  1.12059   1.12026  1.12059  1.12026  1.12071   1.12038   \n",
      "2019-07-09 13:45:00  1.12026   1.12036  1.12042  1.12010  1.12038   1.12048   \n",
      "2019-07-09 13:50:00  1.12035   1.12051  1.12073  1.12034  1.12047   1.12062   \n",
      "2019-07-09 13:55:00  1.12050   1.12062  1.12063  1.12034  1.12062   1.12076   \n",
      "2019-07-09 14:00:00  1.12063   1.12051  1.12082  1.12050  1.12077   1.12065   \n",
      "\n",
      "                     askhigh   asklow  tickqty  \n",
      "date                                            \n",
      "2019-07-09 13:40:00  1.12071  1.12038      850  \n",
      "2019-07-09 13:45:00  1.12054  1.12023      984  \n",
      "2019-07-09 13:50:00  1.12084  1.12046     1001  \n",
      "2019-07-09 13:55:00  1.12076  1.12046     1247  \n",
      "2019-07-09 14:00:00  1.12094  1.12062     1119  \n",
      "requesting new data...\n",
      "requesting new data...\n",
      "new price data received...\n",
      "                     bidopen  bidclose  bidhigh   bidlow  askopen  askclose  \\\n",
      "date                                                                          \n",
      "2019-07-09 13:45:00  1.12026   1.12036  1.12042  1.12010  1.12038   1.12048   \n",
      "2019-07-09 13:50:00  1.12035   1.12051  1.12073  1.12034  1.12047   1.12062   \n",
      "2019-07-09 13:55:00  1.12050   1.12062  1.12063  1.12034  1.12062   1.12076   \n",
      "2019-07-09 14:00:00  1.12063   1.12051  1.12082  1.12050  1.12077   1.12065   \n",
      "2019-07-09 14:05:00  1.12051   1.12052  1.12061  1.12034  1.12064   1.12064   \n",
      "\n",
      "                     askhigh   asklow  tickqty  \n",
      "date                                            \n",
      "2019-07-09 13:45:00  1.12054  1.12023      984  \n",
      "2019-07-09 13:50:00  1.12084  1.12046     1001  \n",
      "2019-07-09 13:55:00  1.12076  1.12046     1247  \n",
      "2019-07-09 14:00:00  1.12094  1.12062     1119  \n",
      "2019-07-09 14:05:00  1.12073  1.12046      718  \n",
      "2019-07-09 18:10:02.697959\t m5 Bar Closed - Running Update Function...\n"
     ]
    },
    {
     "ename": "AttributeError",
     "evalue": "'NoneType' object has no attribute 'apply'",
     "output_type": "error",
     "traceback": [
      "\u001b[1;31m---------------------------------------------------------------------------\u001b[0m",
      "\u001b[1;31mAttributeError\u001b[0m                            Traceback (most recent call last)",
      "\u001b[1;32m<ipython-input-97-96e707b07146>\u001b[0m in \u001b[0;36m<module>\u001b[1;34m()\u001b[0m\n\u001b[1;32m----> 1\u001b[1;33m \u001b[0mget_latest_data\u001b[0m\u001b[1;33m(\u001b[0m\u001b[1;33m)\u001b[0m\u001b[1;33m\u001b[0m\u001b[0m\n\u001b[0m",
      "\u001b[1;32m<ipython-input-89-cbe36571f6f8>\u001b[0m in \u001b[0;36mget_latest_data\u001b[1;34m()\u001b[0m\n\u001b[0;32m     15\u001b[0m             \u001b[0mprint\u001b[0m\u001b[1;33m(\u001b[0m\u001b[1;34m\"new price data received...\"\u001b[0m\u001b[1;33m)\u001b[0m\u001b[1;33m\u001b[0m\u001b[0m\n\u001b[0;32m     16\u001b[0m             \u001b[0mprint\u001b[0m\u001b[1;33m(\u001b[0m\u001b[0mpricedata\u001b[0m\u001b[1;33m.\u001b[0m\u001b[0mtail\u001b[0m\u001b[1;33m(\u001b[0m\u001b[1;33m)\u001b[0m\u001b[1;33m)\u001b[0m\u001b[1;33m\u001b[0m\u001b[0m\n\u001b[1;32m---> 17\u001b[1;33m             \u001b[0mUpdate\u001b[0m\u001b[1;33m(\u001b[0m\u001b[1;33m)\u001b[0m\u001b[1;33m\u001b[0m\u001b[0m\n\u001b[0m\u001b[0;32m     18\u001b[0m         \u001b[0mtime\u001b[0m\u001b[1;33m.\u001b[0m\u001b[0msleep\u001b[0m\u001b[1;33m(\u001b[0m\u001b[1;36m30\u001b[0m\u001b[1;33m)\u001b[0m\u001b[1;33m\u001b[0m\u001b[0m\n",
      "\u001b[1;32m<ipython-input-96-806ed48cb356>\u001b[0m in \u001b[0;36mUpdate\u001b[1;34m()\u001b[0m\n\u001b[0;32m      5\u001b[0m \u001b[1;31m#     iFastSMA = sma(pricedata['bidclose'], fast_sma_periods)\u001b[0m\u001b[1;33m\u001b[0m\u001b[1;33m\u001b[0m\u001b[0m\n\u001b[0;32m      6\u001b[0m \u001b[1;31m#     iSlowSMA = sma(pricedata['bidclose'], slow_sma_periods)pricedata\u001b[0m\u001b[1;33m\u001b[0m\u001b[1;33m\u001b[0m\u001b[0m\n\u001b[1;32m----> 7\u001b[1;33m     \u001b[0mpricedata\u001b[0m\u001b[1;33m[\u001b[0m\u001b[1;34m'dir'\u001b[0m\u001b[1;33m]\u001b[0m \u001b[1;33m=\u001b[0m \u001b[0mpricedata\u001b[0m\u001b[1;33m.\u001b[0m\u001b[0mapply\u001b[0m\u001b[1;33m(\u001b[0m\u001b[1;32mlambda\u001b[0m \u001b[0mx\u001b[0m\u001b[1;33m:\u001b[0m \u001b[1;36m1\u001b[0m \u001b[1;32mif\u001b[0m \u001b[0mx\u001b[0m\u001b[1;33m[\u001b[0m\u001b[1;34m'bidopen'\u001b[0m\u001b[1;33m]\u001b[0m\u001b[1;33m<\u001b[0m\u001b[0mx\u001b[0m\u001b[1;33m[\u001b[0m\u001b[1;34m'bidclose'\u001b[0m\u001b[1;33m]\u001b[0m \u001b[1;32melse\u001b[0m \u001b[1;33m-\u001b[0m\u001b[1;36m1\u001b[0m \u001b[1;32mif\u001b[0m \u001b[0mx\u001b[0m\u001b[1;33m[\u001b[0m\u001b[1;34m'bidopen'\u001b[0m\u001b[1;33m]\u001b[0m\u001b[1;33m>\u001b[0m\u001b[0mx\u001b[0m\u001b[1;33m[\u001b[0m\u001b[1;34m'bidclose'\u001b[0m\u001b[1;33m]\u001b[0m \u001b[1;32melse\u001b[0m \u001b[1;36m0\u001b[0m\u001b[1;33m,\u001b[0m \u001b[0maxis\u001b[0m\u001b[1;33m=\u001b[0m\u001b[1;36m1\u001b[0m\u001b[1;33m)\u001b[0m\u001b[1;33m\u001b[0m\u001b[0m\n\u001b[0m\u001b[0;32m      8\u001b[0m     \u001b[1;31m# Print Price/Indicator\u001b[0m\u001b[1;33m\u001b[0m\u001b[1;33m\u001b[0m\u001b[0m\n\u001b[0;32m      9\u001b[0m \u001b[1;33m\u001b[0m\u001b[0m\n",
      "\u001b[1;31mAttributeError\u001b[0m: 'NoneType' object has no attribute 'apply'"
     ]
    }
   ],
   "source": [
    "get_latest_data()"
   ]
  },
  {
   "cell_type": "code",
   "execution_count": null,
   "metadata": {},
   "outputs": [],
   "source": []
  }
 ],
 "metadata": {
  "kernelspec": {
   "display_name": "Python 3",
   "language": "python",
   "name": "python3"
  },
  "language_info": {
   "codemirror_mode": {
    "name": "ipython",
    "version": 3
   },
   "file_extension": ".py",
   "mimetype": "text/x-python",
   "name": "python",
   "nbconvert_exporter": "python",
   "pygments_lexer": "ipython3",
   "version": "3.6.5"
  }
 },
 "nbformat": 4,
 "nbformat_minor": 2
}
